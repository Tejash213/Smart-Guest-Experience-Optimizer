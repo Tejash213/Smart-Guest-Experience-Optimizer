{
  "nbformat": 4,
  "nbformat_minor": 0,
  "metadata": {
    "colab": {
      "provenance": []
    },
    "kernelspec": {
      "name": "python3",
      "display_name": "Python 3"
    },
    "language_info": {
      "name": "python"
    }
  },
  "cells": [
    {
      "cell_type": "code",
      "execution_count": 1,
      "metadata": {
        "id": "d2Mrbg264TOr"
      },
      "outputs": [],
      "source": [
        "# Step 1: Create mock guest data\n",
        "guests = [\n",
        "    {\"name\": \"Alice\", \"age\": 25, \"likes\": [\"music\", \"dance\"], \"mood\": 0.9, \"feedback\": 4.5},\n",
        "    {\"name\": \"Bob\", \"age\": 34, \"likes\": [\"speeches\", \"networking\"], \"mood\": 0.6, \"feedback\": 3.9},\n",
        "    {\"name\": \"Carol\", \"age\": 28, \"likes\": [\"food\", \"music\"], \"mood\": 0.8, \"feedback\": 4.2},\n",
        "    {\"name\": \"David\", \"age\": 40, \"likes\": [\"speeches\", \"games\"], \"mood\": 0.7, \"feedback\": 4.1}\n",
        "]\n"
      ]
    },
    {
      "cell_type": "code",
      "source": [
        "# Step 2: Find common interests\n",
        "from collections import defaultdict\n",
        "\n",
        "groups = defaultdict(list)\n",
        "\n",
        "for guest in guests:\n",
        "    for interest in guest[\"likes\"]:\n",
        "        groups[interest].append(guest[\"name\"])\n",
        "\n",
        "print(\"🎉 Seating Groups by Interests:\\n\")\n",
        "for interest, group in groups.items():\n",
        "    print(f\"{interest.title()} Group: {', '.join(group)}\")\n"
      ],
      "metadata": {
        "colab": {
          "base_uri": "https://localhost:8080/"
        },
        "id": "m1-c2mir5yAp",
        "outputId": "dde33d8e-41d6-4b69-c018-2cd0050029f0"
      },
      "execution_count": 2,
      "outputs": [
        {
          "output_type": "stream",
          "name": "stdout",
          "text": [
            "🎉 Seating Groups by Interests:\n",
            "\n",
            "Music Group: Alice, Carol\n",
            "Dance Group: Alice\n",
            "Speeches Group: Bob, David\n",
            "Networking Group: Bob\n",
            "Food Group: Carol\n",
            "Games Group: David\n"
          ]
        }
      ]
    },
    {
      "cell_type": "code",
      "source": [
        "# Step 3: Plan event activities based on majority interest\n",
        "activity_schedule = []\n",
        "\n",
        "interest_counts = defaultdict(int)\n",
        "for guest in guests:\n",
        "    for interest in guest[\"likes\"]:\n",
        "        interest_counts[interest] += 1\n",
        "\n",
        "# Sort activities based on how many guests like them\n",
        "sorted_activities = sorted(interest_counts.items(), key=lambda x: x[1], reverse=True)\n",
        "\n",
        "print(\"\\n🗓️ Suggested Event Activity Order:\\n\")\n",
        "for i, (activity, count) in enumerate(sorted_activities, 1):\n",
        "    print(f\"{i}. {activity.title()} - liked by {count} guests\")\n"
      ],
      "metadata": {
        "colab": {
          "base_uri": "https://localhost:8080/"
        },
        "id": "ce5ler3v5_c1",
        "outputId": "9b1471b8-4e94-4d63-e2b4-1feb371cb9e0"
      },
      "execution_count": 3,
      "outputs": [
        {
          "output_type": "stream",
          "name": "stdout",
          "text": [
            "\n",
            "🗓️ Suggested Event Activity Order:\n",
            "\n",
            "1. Music - liked by 2 guests\n",
            "2. Speeches - liked by 2 guests\n",
            "3. Dance - liked by 1 guests\n",
            "4. Networking - liked by 1 guests\n",
            "5. Food - liked by 1 guests\n",
            "6. Games - liked by 1 guests\n"
          ]
        }
      ]
    },
    {
      "cell_type": "code",
      "source": [
        "print(\"\\n🗓️ 🎉 Suggested Event Activity Order:\\n\")\n",
        "print(\"{:<4} {:<15} {:<25}\".format(\"No.\", \"Activity\", \"Guests Interested\"))\n",
        "\n",
        "for i, (activity, count) in enumerate(sorted_activities, 1):\n",
        "    print(\"{:<4} {:<15} {:<25}\".format(f\"{i}.\", activity.title(), f\"{count} guest{'s' if count > 1 else ''}\"))\n"
      ],
      "metadata": {
        "colab": {
          "base_uri": "https://localhost:8080/"
        },
        "id": "z98EWSVt8I60",
        "outputId": "bd20dd8d-b0c3-43ec-a4dc-4d1038337ef5"
      },
      "execution_count": 4,
      "outputs": [
        {
          "output_type": "stream",
          "name": "stdout",
          "text": [
            "\n",
            "🗓️ 🎉 Suggested Event Activity Order:\n",
            "\n",
            "No.  Activity        Guests Interested        \n",
            "1.   Music           2 guests                 \n",
            "2.   Speeches        2 guests                 \n",
            "3.   Dance           1 guest                  \n",
            "4.   Networking      1 guest                  \n",
            "5.   Food            1 guest                  \n",
            "6.   Games           1 guest                  \n"
          ]
        }
      ]
    },
    {
      "cell_type": "code",
      "source": [
        "top_activity = sorted_activities[0][0]\n",
        "print(f\"\\n💡 Recommendation: Start your event with a '{top_activity.title()}' session to engage the majority early!\")\n"
      ],
      "metadata": {
        "colab": {
          "base_uri": "https://localhost:8080/"
        },
        "id": "CQfJ7OLj8SST",
        "outputId": "1bdd39b5-48b2-4ed4-b94a-1fe7301e86d2"
      },
      "execution_count": 5,
      "outputs": [
        {
          "output_type": "stream",
          "name": "stdout",
          "text": [
            "\n",
            "💡 Recommendation: Start your event with a 'Music' session to engage the majority early!\n"
          ]
        }
      ]
    },
    {
      "cell_type": "code",
      "source": [
        "time_slots = [\"6:00 PM\", \"6:30 PM\", \"7:00 PM\", \"7:30 PM\", \"8:00 PM\", \"8:30 PM\"]\n",
        "\n",
        "print(\"\\n🕒 Suggested Event Timeline:\\n\")\n",
        "for i, ((activity, count), time) in enumerate(zip(sorted_activities, time_slots)):\n",
        "    print(f\"{time} - {activity.title()} (liked by {count} guest{'s' if count > 1 else ''})\")\n"
      ],
      "metadata": {
        "colab": {
          "base_uri": "https://localhost:8080/"
        },
        "id": "8CERfQ_C8TVI",
        "outputId": "fe52024b-2074-455b-999b-64386f5cdb84"
      },
      "execution_count": 6,
      "outputs": [
        {
          "output_type": "stream",
          "name": "stdout",
          "text": [
            "\n",
            "🕒 Suggested Event Timeline:\n",
            "\n",
            "6:00 PM - Music (liked by 2 guests)\n",
            "6:30 PM - Speeches (liked by 2 guests)\n",
            "7:00 PM - Dance (liked by 1 guest)\n",
            "7:30 PM - Networking (liked by 1 guest)\n",
            "8:00 PM - Food (liked by 1 guest)\n",
            "8:30 PM - Games (liked by 1 guest)\n"
          ]
        }
      ]
    },
    {
      "cell_type": "code",
      "source": [],
      "metadata": {
        "id": "dBjecubM8X2L"
      },
      "execution_count": null,
      "outputs": []
    }
  ]
}